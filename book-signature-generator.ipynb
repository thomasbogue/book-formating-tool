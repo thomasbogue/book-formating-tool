{
 "cells": [
  {
   "cell_type": "code",
   "execution_count": 1,
   "id": "3f9859ca",
   "metadata": {},
   "outputs": [],
   "source": [
    "import pypdf\n",
    "import pypdf.annotations\n",
    "\n",
    "import math"
   ]
  },
  {
   "cell_type": "markdown",
   "id": "c8a8c475",
   "metadata": {},
   "source": [
    "PaperSizes are in pts, which are .35 mm"
   ]
  },
  {
   "cell_type": "code",
   "execution_count": 2,
   "id": "60f3e229",
   "metadata": {},
   "outputs": [],
   "source": [
    "infilename = \"/home/tbogue/Documents/Spells.pdf\""
   ]
  },
  {
   "cell_type": "code",
   "execution_count": 3,
   "id": "fcd25b3d",
   "metadata": {},
   "outputs": [],
   "source": [
    "def make_sheet(writer, page1, page2, page3, page4):\n",
    "    width = page1.mediabox[2]\n",
    "    height = page1.mediabox[3]\n",
    "    sheet1 = writer.add_blank_page(width = width * 2, height = height)\n",
    "    #page1.mediabox = page2.mediabox = page3.mediabox = page4.mediabox = sheet1.mediabox\n",
    "    sheet1.merge_transformed_page(\n",
    "        page1,\n",
    "        pypdf.Transformation().translate(width,0)\n",
    "    )\n",
    "    sheet1.merge_transformed_page(\n",
    "        page4,\n",
    "        pypdf.Transformation().translate(0, 0)\n",
    "    )\n",
    "    sheet2 = writer.add_blank_page(width = width * 2, height = height)\n",
    "    sheet2.merge_transformed_page(\n",
    "        page2,\n",
    "        pypdf.Transformation().translate(0, 0)\n",
    "    )\n",
    "    sheet2.merge_transformed_page(\n",
    "        page3,\n",
    "        pypdf.Transformation().translate(width, 0)\n",
    "    )\n",
    "    "
   ]
  },
  {
   "cell_type": "code",
   "execution_count": 4,
   "id": "17a7a2ca",
   "metadata": {},
   "outputs": [],
   "source": [
    "def signature_plan(num_pages):\n",
    "    sheets_per_signature = 8\n",
    "    # reserve 4 pages for binding\n",
    "    total_pages = num_pages + 4\n",
    "    # add extra pages to make an integral number of sheets\n",
    "    num_sheets = math.ceil(total_pages / 4)\n",
    "    total_pages = 4 * num_sheets\n",
    "    num_signatures = math.ceil(num_sheets / sheets_per_signature)\n",
    "    extra_pages = total_pages - num_pages\n",
    "    pairs_of_extra_pages = math.ceil(extra_pages / 2)\n",
    "    extra_front_pages = 2 * math.ceil(pairs_of_extra_pages / 2)\n",
    "    extra_back_pages = extra_pages - extra_front_pages\n",
    "    all_pages = [0] * extra_front_pages + list(range(1, num_pages + 1)) + [0] * extra_back_pages\n",
    "    current_page = 0\n",
    "    signatures = []\n",
    "    for signatureNum in range(0, num_signatures):\n",
    "        signature = []\n",
    "        starting_page = current_page\n",
    "        pages_left = total_pages - current_page\n",
    "        sheets_left = int(pages_left / 4)\n",
    "        signatures_left = num_signatures - signatureNum\n",
    "        num_sheets_in_signature = math.ceil(sheets_left / signatures_left)\n",
    "        ending_page = current_page + num_sheets_in_signature * 4 - 1\n",
    "        for sheet_num in range(0, num_sheets_in_signature):\n",
    "            sheet = [ \n",
    "                starting_page + sheet_num * 2,\n",
    "                starting_page + sheet_num * 2 + 1,\n",
    "                ending_page - sheet_num * 2 - 1,\n",
    "                ending_page - sheet_num * 2\n",
    "            ]\n",
    "            signature.append(sheet)\n",
    "        signatures.append(signature)\n",
    "        current_page = ending_page + 1\n",
    "    return({\"page_list\":all_pages, \"signatures\":signatures})"
   ]
  },
  {
   "cell_type": "code",
   "execution_count": 5,
   "id": "6ad9c617",
   "metadata": {},
   "outputs": [],
   "source": [
    "# returns a blank page if page_id is 0 or the page otherwise\n",
    "def get_page(reader, page_id, reverse=False):\n",
    "    if page_id == 0:\n",
    "        width = reader.pages[0].mediabox[2]\n",
    "        height = reader.pages[1].mediabox[3]\n",
    "        return pypdf._page.PageObject.create_blank_page(height=height, width=width)\n",
    "    else:\n",
    "        page_editor = pypdf.PdfWriter()\n",
    "        page = reader.pages[page_id - 1]\n",
    "        page_editor.add_page(page)\n",
    "        width = page.mediabox[2]\n",
    "        rect = (5,5,23,20)\n",
    "        if (page_id % 2 == 0) != reverse :\n",
    "            rect = (width-rect[2], 5, width-rect[0], 20)\n",
    "        page_num_annotation = pypdf.annotations.FreeText(\n",
    "            rect=rect,\n",
    "            text=f'{page_id}'\n",
    "        )\n",
    "        page_editor.add_annotation(page_number=0, annotation=page_num_annotation)\n",
    "        page_editor.write(\"tmp.pdf\")\n",
    "        return pypdf.PdfReader(\"tmp.pdf\").pages[0]"
   ]
  },
  {
   "cell_type": "code",
   "execution_count": 6,
   "id": "19d2f514",
   "metadata": {},
   "outputs": [],
   "source": [
    "def convert_pdf(infilename, outfileName=None):\n",
    "    if outfileName == None:\n",
    "        outfileName = infilename[0:-4] + \"-book.pdf\"\n",
    "    reader = pypdf.PdfReader(infilename)\n",
    "    writer = pypdf.PdfWriter()\n",
    "    plan = signature_plan(len(reader.pages))\n",
    "    signatures = plan['signatures']\n",
    "    page_list = plan['page_list']\n",
    "    for signature in signatures:\n",
    "        for sheet in signature:            \n",
    "            page_nums = [\n",
    "                page_list[sheet[0]],\n",
    "                page_list[sheet[1]],\n",
    "                page_list[sheet[2]],\n",
    "                page_list[sheet[3]]\n",
    "            ]\n",
    "            make_sheet(\n",
    "                writer, \n",
    "                get_page(reader, page_list[sheet[0]], True),\n",
    "                get_page(reader, page_list[sheet[1]], True),\n",
    "                get_page(reader, page_list[sheet[2]], True),\n",
    "                get_page(reader, page_list[sheet[3]], True)\n",
    "            )\n",
    "    writer.write(outfileName)"
   ]
  },
  {
   "cell_type": "code",
   "execution_count": 7,
   "id": "af094235",
   "metadata": {},
   "outputs": [],
   "source": [
    "convert_pdf(infilename)"
   ]
  },
  {
   "cell_type": "code",
   "execution_count": null,
   "id": "c369d96d",
   "metadata": {},
   "outputs": [],
   "source": []
  }
 ],
 "metadata": {
  "kernelspec": {
   "display_name": "Python 3 (ipykernel)",
   "language": "python",
   "name": "python3"
  },
  "language_info": {
   "codemirror_mode": {
    "name": "ipython",
    "version": 3
   },
   "file_extension": ".py",
   "mimetype": "text/x-python",
   "name": "python",
   "nbconvert_exporter": "python",
   "pygments_lexer": "ipython3",
   "version": "3.10.12"
  }
 },
 "nbformat": 4,
 "nbformat_minor": 5
}
