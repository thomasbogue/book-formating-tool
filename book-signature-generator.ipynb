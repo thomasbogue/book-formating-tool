{
 "cells": [
  {
   "cell_type": "code",
   "execution_count": 1,
   "id": "3f9859ca",
   "metadata": {},
   "outputs": [],
   "source": [
    "import pypdf\n",
    "import pypdf.annotations\n",
    "\n",
    "import reportlab.pdfgen.canvas\n",
    "\n",
    "import math\n",
    "import argparse\n",
    "import sys"
   ]
  },
  {
   "cell_type": "code",
   "execution_count": 2,
   "id": "61c87c37",
   "metadata": {},
   "outputs": [
    {
     "data": {
      "text/plain": [
       "True"
      ]
     },
     "execution_count": 2,
     "metadata": {},
     "output_type": "execute_result"
    }
   ],
   "source": [
    "\"get_ipython\" in vars()"
   ]
  },
  {
   "cell_type": "markdown",
   "id": "c8a8c475",
   "metadata": {},
   "source": [
    "PaperSizes are in pts, which are .35 mm"
   ]
  },
  {
   "cell_type": "code",
   "execution_count": 3,
   "id": "8bffc922",
   "metadata": {},
   "outputs": [],
   "source": [
    "# takes a pypdf.mediabox and returns a page with the left and right page numbers added\n",
    "# left_page and right_page are the page numbers\n",
    "# returns the new page with page numbers only\n",
    "def add_page_numbers(mediabox, left_page, right_page):\n",
    "    tmpfile=\"tmprl.pdf\"\n",
    "    canvas = reportlab.pdfgen.canvas.Canvas(tmpfile, pagesize=(mediabox[2], mediabox[3]))\n",
    "    # make sure inputs are strings\n",
    "    left_page = f\"{left_page}\"\n",
    "    right_page = f\"{right_page}\"\n",
    "    if left_page != \"0\":\n",
    "        canvas.drawString(page_number_margin, page_number_margin, left_page)\n",
    "    if right_page != \"0\":\n",
    "        canvas.drawString(mediabox[2] - canvas.stringWidth(right_page) - page_number_margin, page_number_margin, right_page)\n",
    "    canvas.showPage()\n",
    "    canvas.save()\n",
    "    reader = pypdf.PdfReader(tmpfile)\n",
    "    return reader.pages[0]"
   ]
  },
  {
   "cell_type": "code",
   "execution_count": 4,
   "id": "fcd25b3d",
   "metadata": {},
   "outputs": [],
   "source": [
    "# sets up a folio with the given four pages\n",
    "# pagenumbers should be a list of page numbers for the four pages\n",
    "def make_folio(writer, page1, page2, page3, page4, pageNumbers):\n",
    "    width = page1.mediabox[2]\n",
    "    height = page1.mediabox[3]\n",
    "    sheet1 = writer.add_blank_page(width = width * 2, height = height)\n",
    "    sheet1.merge_transformed_page(\n",
    "        page1,\n",
    "        pypdf.Transformation().translate(width + inner_margin,0)\n",
    "    )\n",
    "    sheet1.merge_transformed_page(\n",
    "        page4,\n",
    "        pypdf.Transformation().translate(-inner_margin, 0)\n",
    "    )\n",
    "    sheet2 = writer.add_blank_page(width = width * 2 + inner_margin, height = height)\n",
    "    sheet2.merge_transformed_page(\n",
    "        page2,\n",
    "        pypdf.Transformation().translate(-inner_margin, 0)\n",
    "    )\n",
    "    sheet2.merge_transformed_page(\n",
    "        page3,\n",
    "        pypdf.Transformation().translate(width, 0)\n",
    "    )\n",
    "    sheet1_numbers = add_page_numbers(sheet1.mediabox, pageNumbers[3], pageNumbers[0])\n",
    "    sheet2_numbers = add_page_numbers(sheet2.mediabox, pageNumbers[1], pageNumbers[2])\n",
    "    sheet1.merge_page(sheet1_numbers)\n",
    "    sheet2.merge_page(sheet2_numbers)"
   ]
  },
  {
   "cell_type": "code",
   "execution_count": 5,
   "id": "17a7a2ca",
   "metadata": {},
   "outputs": [],
   "source": [
    "# returns a list of lists.  each sublist contains a list of page numbers for that folio\n",
    "# page number of 0 represents a blank page instead of one from the source document\n",
    "# if binder_folio is True it will make sure that the first and last two pages are blank \n",
    "# so you either have a cover sheet or a page to glue to the cover\n",
    "def signature_plan(num_pages, binder_folio=True):\n",
    "    folios_per_signature = 8\n",
    "    # reserve 4 pages for binding\n",
    "    total_pages = num_pages + 4\n",
    "    # add extra pages to make an integral number of folios\n",
    "    num_sheets = math.ceil(total_pages / 4)\n",
    "    total_pages = 4 * num_sheets\n",
    "    num_signatures = math.ceil(num_sheets / folios_per_signature)\n",
    "    extra_pages = total_pages - num_pages\n",
    "    pairs_of_extra_pages = math.ceil(extra_pages / 2)\n",
    "    extra_front_pages = 2 * math.ceil(pairs_of_extra_pages / 2)\n",
    "    extra_back_pages = extra_pages - extra_front_pages\n",
    "    all_pages = [0] * extra_front_pages + list(range(1, num_pages + 1)) + [0] * extra_back_pages\n",
    "    current_page = 0\n",
    "    signatures = []\n",
    "    for signatureNum in range(0, num_signatures):\n",
    "        signature = []\n",
    "        starting_page = current_page\n",
    "        pages_left = total_pages - current_page\n",
    "        sheets_left = int(pages_left / 4)\n",
    "        signatures_left = num_signatures - signatureNum\n",
    "        num_sheets_in_signature = math.ceil(sheets_left / signatures_left)\n",
    "        ending_page = current_page + num_sheets_in_signature * 4 - 1\n",
    "        for sheet_num in range(0, num_sheets_in_signature):\n",
    "            sheet = [ \n",
    "                all_pages[starting_page + sheet_num * 2],\n",
    "                all_pages[starting_page + sheet_num * 2 + 1],\n",
    "                all_pages[ending_page - sheet_num * 2 - 1],\n",
    "                all_pages[ending_page - sheet_num * 2]\n",
    "            ]\n",
    "            signature.append(sheet)\n",
    "        signatures.append(signature)\n",
    "        current_page = ending_page + 1\n",
    "    return(signatures)"
   ]
  },
  {
   "cell_type": "code",
   "execution_count": 6,
   "id": "6ad9c617",
   "metadata": {},
   "outputs": [],
   "source": [
    "# returns a blank page if page_id is 0 or the page otherwise\n",
    "def get_page(reader, page_id, reverse=False):\n",
    "    if page_id == 0:\n",
    "        width = reader.pages[0].mediabox[2]\n",
    "        height = reader.pages[1].mediabox[3]\n",
    "        return pypdf._page.PageObject.create_blank_page(height=height, width=width)\n",
    "    else:\n",
    "        return reader.pages[page_id - 1]"
   ]
  },
  {
   "cell_type": "code",
   "execution_count": 7,
   "id": "19d2f514",
   "metadata": {},
   "outputs": [],
   "source": [
    "# convert the pdf infilename to a ready-to-print/bind pdf outfilename\n",
    "# outfilename defaults to infilename-book.pdf\n",
    "def convert_pdf(infilename, outfileName=None):\n",
    "    if outfileName == None:\n",
    "        outfileName = infilename[0:-4] + \"-book.pdf\"\n",
    "    reader = pypdf.PdfReader(infilename)\n",
    "    writer = pypdf.PdfWriter()\n",
    "    signatures = signature_plan(len(reader.pages), binder_folio)\n",
    "    for signature in signatures:\n",
    "        for sheet in signature:            \n",
    "            page_nums = [\n",
    "                sheet[0],\n",
    "                sheet[1],\n",
    "                sheet[2],\n",
    "                sheet[3]\n",
    "            ]\n",
    "            make_folio(\n",
    "                writer, \n",
    "                get_page(reader, page_nums[0], True),\n",
    "                get_page(reader, page_nums[1], True),\n",
    "                get_page(reader, page_nums[2], True),\n",
    "                get_page(reader, page_nums[3], True),\n",
    "                page_nums\n",
    "            )\n",
    "    writer.write(outfileName)"
   ]
  },
  {
   "cell_type": "code",
   "execution_count": 8,
   "id": "60f3e229",
   "metadata": {},
   "outputs": [
    {
     "name": "stdout",
     "output_type": "stream",
     "text": [
      "processing /home/tbogue/Documents/Spells.pdf with page number margin 35 and with a binder folio and inner margin of 3\n"
     ]
    }
   ],
   "source": [
    "if __name__ == \"__main__\":\n",
    "    # parse arguments and set defaults\n",
    "    infilename = \"/home/tbogue/Documents/Spells.pdf\"\n",
    "    outfilename = None\n",
    "    page_number_margin = 35\n",
    "    binder_folio = True\n",
    "    inner_margin=3\n",
    "\n",
    "    if not \"get_ipython\" in vars():\n",
    "        argparser = argparse.ArgumentParser(description=\"Converts a pdf file into a bindable format, combining pages together and reordering, as well as adding page numbers\")\n",
    "        argparser.add_argument(\"infilename\", help=\"input pdf file to parse\")\n",
    "        argparser.add_argument(\"outfilename\", default=None, help=\"output pdf file to parse.  defaults to infilname-book.pdf\", nargs=\"?\")\n",
    "        argparser.add_argument(\"--page-margin\", dest=\"page_margin\", default=page_number_margin, type=int, help=\"margin from bottom or edge of page to put the page number.  Measured in points\", nargs=1)\n",
    "        argparser.add_argument(\"--skip-binder-folio\", dest=\"skip_binder\", default=False, action=\"store_true\")\n",
    "        argparser.add_argument(\"--innermargin\", dest=\"innermargin\", default=inner_margin, nargs=1)\n",
    "        args = argparser.parse_args()\n",
    "        infilename = args.infilename\n",
    "        outfilename = args.outfilename\n",
    "        page_number_margin = args.page_margin\n",
    "        binder_folio = not args.skip_binder\n",
    "        inner_margin = args.innermargin\n",
    "    print(f\"processing {infilename} {'' if outfilename == None else 'to ' + outfilename + ' '}with page number margin {page_number_margin} and {'with' if binder_folio else 'without'} a binder folio and inner margin of {inner_margin}\")\n",
    "    convert_pdf(infilename)"
   ]
  }
 ],
 "metadata": {
  "kernelspec": {
   "display_name": "Python 3 (ipykernel)",
   "language": "python",
   "name": "python3"
  },
  "language_info": {
   "codemirror_mode": {
    "name": "ipython",
    "version": 3
   },
   "file_extension": ".py",
   "mimetype": "text/x-python",
   "name": "python",
   "nbconvert_exporter": "python",
   "pygments_lexer": "ipython3",
   "version": "3.10.12"
  }
 },
 "nbformat": 4,
 "nbformat_minor": 5
}
