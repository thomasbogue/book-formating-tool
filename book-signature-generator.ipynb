{
 "cells": [
  {
   "cell_type": "code",
   "execution_count": 1,
   "id": "6d5e580e",
   "metadata": {},
   "outputs": [],
   "source": [
    "import pypdf\n",
    "import pypdf.annotations\n",
    "\n",
    "import math"
   ]
  },
  {
   "cell_type": "markdown",
   "id": "4d18f5e0",
   "metadata": {},
   "source": [
    "PaperSizes are in pts, which are .35 mm"
   ]
  },
  {
   "cell_type": "code",
   "execution_count": 2,
   "id": "bb66310a",
   "metadata": {},
   "outputs": [],
   "source": [
    "infilename = \"/home/tbogue/Documents/Spells.pdf\""
   ]
  },
  {
   "cell_type": "code",
   "execution_count": 37,
   "id": "3326b4ad",
   "metadata": {},
   "outputs": [],
   "source": [
    "def make_sheet(writer, page1, page2, page3, page4):\n",
    "    width = page1.mediabox[2]\n",
    "    height = page1.mediabox[3]\n",
    "    sheet1 = writer.add_blank_page(width = width * 2, height = height)\n",
    "    #page1.mediabox = page2.mediabox = page3.mediabox = page4.mediabox = sheet1.mediabox\n",
    "    sheet1.merge_transformed_page(\n",
    "        page1,\n",
    "        pypdf.Transformation().translate(0,0)\n",
    "    )\n",
    "    sheet1.merge_transformed_page(\n",
    "        page4,\n",
    "        pypdf.Transformation().translate(width, 0)\n",
    "    )\n",
    "    sheet2 = writer.add_blank_page(width = width * 2, height = height)\n",
    "    sheet2.merge_transformed_page(\n",
    "        page2,\n",
    "        pypdf.Transformation().rotate(180).translate(width*2, height)\n",
    "    )\n",
    "    sheet2.merge_transformed_page(\n",
    "        page3,\n",
    "        pypdf.Transformation().rotate(180).translate(width, height)\n",
    "    )\n",
    "    "
   ]
  },
  {
   "cell_type": "code",
   "execution_count": 38,
   "id": "1dcdedea",
   "metadata": {},
   "outputs": [],
   "source": [
    "def signature_plan(num_pages):\n",
    "    sheets_per_signature = 8\n",
    "    # reserve 4 pages for binding\n",
    "    total_pages = num_pages + 4\n",
    "    # add extra pages to make an integral number of sheets\n",
    "    num_sheets = math.ceil(total_pages / 4)\n",
    "    total_pages = 4 * num_sheets\n",
    "    num_signatures = math.ceil(num_sheets / sheets_per_signature)\n",
    "    extra_pages = total_pages - num_pages\n",
    "    pairs_of_extra_pages = math.ceil(extra_pages / 2)\n",
    "    extra_front_pages = 2 * math.ceil(pairs_of_extra_pages / 2)\n",
    "    extra_back_pages = extra_pages - extra_front_pages\n",
    "    all_pages = [0] * extra_front_pages + list(range(1, num_pages + 1)) + [0] * extra_back_pages\n",
    "    current_page = 0\n",
    "    signatures = []\n",
    "    for signatureNum in range(0, num_signatures):\n",
    "        signature = []\n",
    "        starting_page = current_page\n",
    "        pages_left = total_pages - current_page\n",
    "        sheets_left = int(pages_left / 4)\n",
    "        signatures_left = num_signatures - signatureNum\n",
    "        num_sheets_in_signature = math.ceil(sheets_left / signatures_left)\n",
    "        ending_page = current_page + num_sheets_in_signature * 4 - 1\n",
    "        for sheet_num in range(0, num_sheets_in_signature):\n",
    "            sheet = [ \n",
    "                starting_page + sheet_num * 2,\n",
    "                starting_page + sheet_num * 2 + 1,\n",
    "                ending_page - sheet_num * 2 - 1,\n",
    "                ending_page - sheet_num * 2\n",
    "            ]\n",
    "            signature.append(sheet)\n",
    "        signatures.append(signature)\n",
    "        current_page = ending_page + 1\n",
    "    return({\"page_list\":all_pages, \"signatures\":signatures})"
   ]
  },
  {
   "cell_type": "code",
   "execution_count": 57,
   "id": "617ccdf7",
   "metadata": {},
   "outputs": [],
   "source": [
    "# returns a blank page if page_id is 0 or the page otherwise\n",
    "def get_page(reader, page_id, reverse=False):\n",
    "    if page_id == 0:\n",
    "        width = reader.pages[0].mediabox[2]\n",
    "        height = reader.pages[1].mediabox[3]\n",
    "        return pypdf._page.PageObject.create_blank_page(height=height, width=width)\n",
    "    else:\n",
    "        page_editor = pypdf.PdfWriter()\n",
    "        page = reader.pages[page_id - 1]\n",
    "        page_editor.add_page(page)\n",
    "        width = page.mediabox[2]\n",
    "        rect = (5,5,23,20)\n",
    "        if (page_id % 2 == 0) != (int(page_id / 2) % 2 == 0) :\n",
    "            rect = (width-rect[2], 5, width-rect[0], 20)\n",
    "        page_num_annotation = pypdf.annotations.FreeText(\n",
    "            rect=rect,\n",
    "            text=f'{page_id}'\n",
    "        )\n",
    "        page_editor.add_annotation(page_number=0, annotation=page_num_annotation)\n",
    "        page_editor.write(\"tmp.pdf\")\n",
    "        return pypdf.PdfReader(\"tmp.pdf\").pages[0]"
   ]
  },
  {
   "cell_type": "code",
   "execution_count": 58,
   "id": "4cf8d182",
   "metadata": {},
   "outputs": [],
   "source": [
    "def convert_pdf(infilename, outfileName=None):\n",
    "    if outfileName == None:\n",
    "        outfileName = infilename[0:-4] + \"-book.pdf\"\n",
    "    reader = pypdf.PdfReader(infilename)\n",
    "    writer = pypdf.PdfWriter()\n",
    "    plan = signature_plan(len(reader.pages))\n",
    "    signatures = plan['signatures']\n",
    "    page_list = plan['page_list']\n",
    "    for signature in signatures:\n",
    "        for sheet in signature:            \n",
    "            page_nums = [\n",
    "                page_list[sheet[0]],\n",
    "                page_list[sheet[1]],\n",
    "                page_list[sheet[2]],\n",
    "                page_list[sheet[3]]\n",
    "            ]\n",
    "            make_sheet(\n",
    "                writer, \n",
    "                get_page(reader, page_list[sheet[0]]),\n",
    "                get_page(reader, page_list[sheet[1]]),\n",
    "                get_page(reader, page_list[sheet[2]]),\n",
    "                get_page(reader, page_list[sheet[3]])\n",
    "            )\n",
    "    writer.write(outfileName)"
   ]
  },
  {
   "cell_type": "code",
   "execution_count": 59,
   "id": "d0a6b757",
   "metadata": {},
   "outputs": [],
   "source": [
    "convert_pdf(infilename)"
   ]
  },
  {
   "cell_type": "code",
   "execution_count": null,
   "id": "0469ac7b",
   "metadata": {},
   "outputs": [],
   "source": []
  },
  {
   "cell_type": "code",
   "execution_count": null,
   "id": "28c5665c",
   "metadata": {},
   "outputs": [],
   "source": []
  }
 ],
 "metadata": {
  "kernelspec": {
   "display_name": "Python 3 (ipykernel)",
   "language": "python",
   "name": "python3"
  },
  "language_info": {
   "codemirror_mode": {
    "name": "ipython",
    "version": 3
   },
   "file_extension": ".py",
   "mimetype": "text/x-python",
   "name": "python",
   "nbconvert_exporter": "python",
   "pygments_lexer": "ipython3",
   "version": "3.10.12"
  }
 },
 "nbformat": 4,
 "nbformat_minor": 5
}
