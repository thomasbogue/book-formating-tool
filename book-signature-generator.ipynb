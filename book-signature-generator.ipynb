{
 "cells": [
  {
   "cell_type": "code",
   "execution_count": 1,
   "id": "3f9859ca",
   "metadata": {},
   "outputs": [],
   "source": [
    "import pypdf\n",
    "import pypdf.annotations\n",
    "\n",
    "import reportlab.pdfgen.canvas\n",
    "\n",
    "import math\n",
    "import argparse\n",
    "import sys"
   ]
  },
  {
   "cell_type": "markdown",
   "id": "c8a8c475",
   "metadata": {},
   "source": [
    "PaperSizes are in pts, which are .35 mm"
   ]
  },
  {
   "cell_type": "code",
   "execution_count": 2,
   "id": "60f3e229",
   "metadata": {},
   "outputs": [
    {
     "ename": "AttributeError",
     "evalue": "module 'argparse' has no attribute 'ArgParser'",
     "output_type": "error",
     "traceback": [
      "\u001b[0;31m---------------------------------------------------------------------------\u001b[0m",
      "\u001b[0;31mAttributeError\u001b[0m                            Traceback (most recent call last)",
      "\u001b[0;32m/tmp/ipykernel_645808/3351637617.py\u001b[0m in \u001b[0;36m<module>\u001b[0;34m\u001b[0m\n\u001b[1;32m      5\u001b[0m \u001b[0;34m\u001b[0m\u001b[0m\n\u001b[1;32m      6\u001b[0m \u001b[0;32mif\u001b[0m \u001b[0mlen\u001b[0m\u001b[0;34m(\u001b[0m\u001b[0msys\u001b[0m\u001b[0;34m.\u001b[0m\u001b[0margv\u001b[0m\u001b[0;34m)\u001b[0m \u001b[0;34m>\u001b[0m \u001b[0;36m0\u001b[0m\u001b[0;34m:\u001b[0m\u001b[0;34m\u001b[0m\u001b[0;34m\u001b[0m\u001b[0m\n\u001b[0;32m----> 7\u001b[0;31m     \u001b[0margparser\u001b[0m \u001b[0;34m=\u001b[0m \u001b[0margparse\u001b[0m\u001b[0;34m.\u001b[0m\u001b[0mArgParser\u001b[0m\u001b[0;34m(\u001b[0m\u001b[0mdescription\u001b[0m\u001b[0;34m=\u001b[0m\u001b[0;34m\"Converts a pdf file into a bindable format, combining pages together and reordering, as well as adding page numbers\"\u001b[0m\u001b[0;34m)\u001b[0m\u001b[0;34m\u001b[0m\u001b[0;34m\u001b[0m\u001b[0m\n\u001b[0m\u001b[1;32m      8\u001b[0m     \u001b[0margparser\u001b[0m\u001b[0;34m.\u001b[0m\u001b[0madd_argument\u001b[0m\u001b[0;34m(\u001b[0m\u001b[0;34m\"infilename\"\u001b[0m\u001b[0;34m,\u001b[0m \u001b[0mhelp\u001b[0m\u001b[0;34m=\u001b[0m\u001b[0;34m\"input pdf file to parse\"\u001b[0m\u001b[0;34m,\u001b[0m \u001b[0mrequired\u001b[0m\u001b[0;34m=\u001b[0m\u001b[0;32mTrue\u001b[0m\u001b[0;34m)\u001b[0m\u001b[0;34m\u001b[0m\u001b[0;34m\u001b[0m\u001b[0m\n\u001b[1;32m      9\u001b[0m     \u001b[0margparser\u001b[0m\u001b[0;34m.\u001b[0m\u001b[0madd_argument\u001b[0m\u001b[0;34m(\u001b[0m\u001b[0;34m\"outfilename\"\u001b[0m\u001b[0;34m,\u001b[0m \u001b[0mdefault\u001b[0m\u001b[0;34m=\u001b[0m\u001b[0;32mNone\u001b[0m\u001b[0;34m,\u001b[0m \u001b[0mhelp\u001b[0m\u001b[0;34m=\u001b[0m\u001b[0;34m\"output pdf file to parse.  defaults to infilname-book.pdf\"\u001b[0m\u001b[0;34m)\u001b[0m\u001b[0;34m\u001b[0m\u001b[0;34m\u001b[0m\u001b[0m\n",
      "\u001b[0;31mAttributeError\u001b[0m: module 'argparse' has no attribute 'ArgParser'"
     ]
    }
   ],
   "source": [
    "infilename = \"/home/tbogue/Documents/Spells.pdf\"\n",
    "outfilename = None\n",
    "page_number_margin = 35\n",
    "binder_folio = True\n",
    "\n",
    "if len(sys.argv) > 0:\n",
    "    argparser = argparse.ArgParser(description=\"Converts a pdf file into a bindable format, combining pages together and reordering, as well as adding page numbers\")\n",
    "    argparser.add_argument(\"infilename\", help=\"input pdf file to parse\", required=True)\n",
    "    argparser.add_argument(\"outfilename\", default=None, help=\"output pdf file to parse.  defaults to infilname-book.pdf\")\n",
    "    argparser.add_argument(\"--page-margin\", dest=\"page_margin\", default=35, type=int, help=\"margin from bottom or edge of page to put the page number.  Measured in points\")\n",
    "    argparser.add_argument(\"--skip-binder-folio\", dest=\"skip_binder\", default=False, action=\"store-true\")\n",
    "    args = argparser.parser_args(sys.argv)\n",
    "    infilename = args.infilename\n",
    "    outfilename = args.outfilename\n",
    "    page_number_margin = args.page_margin\n",
    "    binder_folio = not args.skip_binder"
   ]
  },
  {
   "cell_type": "code",
   "execution_count": null,
   "id": "8bffc922",
   "metadata": {},
   "outputs": [],
   "source": [
    "def get_page_numbers(mediabox, left_page, right_page):\n",
    "    tmpfile=\"tmprl.pdf\"\n",
    "    canvas = reportlab.pdfgen.canvas.Canvas(tmpfile, pagesize=(mediabox[2], mediabox[3]))\n",
    "    # make sure inputs are strings\n",
    "    left_page = f\"{left_page}\"\n",
    "    right_page = f\"{right_page}\"\n",
    "    if left_page != \"0\":\n",
    "        canvas.drawString(page_number_margin, page_number_margin, left_page)\n",
    "    if right_page != \"0\":\n",
    "        canvas.drawString(mediabox[2] - canvas.stringWidth(right_page) - page_number_margin, page_number_margin, right_page)\n",
    "    canvas.showPage()\n",
    "    canvas.save()\n",
    "    reader = pypdf.PdfReader(tmpfile)\n",
    "    return reader.pages[0]"
   ]
  },
  {
   "cell_type": "code",
   "execution_count": null,
   "id": "fcd25b3d",
   "metadata": {},
   "outputs": [],
   "source": [
    "def make_sheet(writer, page1, page2, page3, page4, pageNumbers=None):\n",
    "    width = page1.mediabox[2]\n",
    "    height = page1.mediabox[3]\n",
    "    sheet1 = writer.add_blank_page(width = width * 2, height = height)\n",
    "    #page1.mediabox = page2.mediabox = page3.mediabox = page4.mediabox = sheet1.mediabox\n",
    "    sheet1.merge_transformed_page(\n",
    "        page1,\n",
    "        pypdf.Transformation().translate(width,0)\n",
    "    )\n",
    "    sheet1.merge_transformed_page(\n",
    "        page4,\n",
    "        pypdf.Transformation().translate(0, 0)\n",
    "    )\n",
    "    sheet2 = writer.add_blank_page(width = width * 2, height = height)\n",
    "    sheet2.merge_transformed_page(\n",
    "        page2,\n",
    "        pypdf.Transformation().translate(0, 0)\n",
    "    )\n",
    "    sheet2.merge_transformed_page(\n",
    "        page3,\n",
    "        pypdf.Transformation().translate(width, 0)\n",
    "    )\n",
    "    sheet1_numbers = get_page_numbers(sheet1.mediabox, pageNumbers[3], pageNumbers[0])\n",
    "    sheet2_numbers = get_page_numbers(sheet2.mediabox, pageNumbers[1], pageNumbers[2])\n",
    "    sheet1.merge_page(sheet1_numbers)\n",
    "    sheet2.merge_page(sheet2_numbers)"
   ]
  },
  {
   "cell_type": "code",
   "execution_count": null,
   "id": "17a7a2ca",
   "metadata": {},
   "outputs": [],
   "source": [
    "def signature_plan(num_pages, binder_folio=True):\n",
    "    sheets_per_signature = 8\n",
    "    # reserve 4 pages for binding\n",
    "    total_pages = num_pages + 4\n",
    "    # add extra pages to make an integral number of sheets\n",
    "    num_sheets = math.ceil(total_pages / 4)\n",
    "    total_pages = 4 * num_sheets\n",
    "    num_signatures = math.ceil(num_sheets / sheets_per_signature)\n",
    "    extra_pages = total_pages - num_pages\n",
    "    pairs_of_extra_pages = math.ceil(extra_pages / 2)\n",
    "    extra_front_pages = 2 * math.ceil(pairs_of_extra_pages / 2)\n",
    "    extra_back_pages = extra_pages - extra_front_pages\n",
    "    all_pages = [0] * extra_front_pages + list(range(1, num_pages + 1)) + [0] * extra_back_pages\n",
    "    current_page = 0\n",
    "    signatures = []\n",
    "    for signatureNum in range(0, num_signatures):\n",
    "        signature = []\n",
    "        starting_page = current_page\n",
    "        pages_left = total_pages - current_page\n",
    "        sheets_left = int(pages_left / 4)\n",
    "        signatures_left = num_signatures - signatureNum\n",
    "        num_sheets_in_signature = math.ceil(sheets_left / signatures_left)\n",
    "        ending_page = current_page + num_sheets_in_signature * 4 - 1\n",
    "        for sheet_num in range(0, num_sheets_in_signature):\n",
    "            sheet = [ \n",
    "                starting_page + sheet_num * 2,\n",
    "                starting_page + sheet_num * 2 + 1,\n",
    "                ending_page - sheet_num * 2 - 1,\n",
    "                ending_page - sheet_num * 2\n",
    "            ]\n",
    "            signature.append(sheet)\n",
    "        signatures.append(signature)\n",
    "        current_page = ending_page + 1\n",
    "    return({\"page_list\":all_pages, \"signatures\":signatures})"
   ]
  },
  {
   "cell_type": "code",
   "execution_count": null,
   "id": "6ad9c617",
   "metadata": {},
   "outputs": [],
   "source": [
    "# returns a blank page if page_id is 0 or the page otherwise\n",
    "def get_page(reader, page_id, reverse=False):\n",
    "    if page_id == 0:\n",
    "        width = reader.pages[0].mediabox[2]\n",
    "        height = reader.pages[1].mediabox[3]\n",
    "        return pypdf._page.PageObject.create_blank_page(height=height, width=width)\n",
    "    else:\n",
    "#        page_editor = pypdf.PdfWriter()\n",
    "#        page = reader.pages[page_id - 1]\n",
    "#        page_editor.add_page(page)\n",
    "#        width = page.mediabox[2]\n",
    "#        rect = (5,5,23,20)\n",
    "#        if (page_id % 2 == 0) != reverse :\n",
    "#            rect = (width-rect[2], 5, width-rect[0], 20)\n",
    "#        page_num_annotation = pypdf.annotations.FreeText(\n",
    "#            rect=rect,\n",
    "#            text=f'{page_id}'\n",
    "#        )\n",
    "#       page_editor.add_annotation(page_number=0, annotation=page_num_annotation)\n",
    "#       page_editor.write(\"tmp.pdf\")\n",
    "        return reader.pages[page_id - 1]"
   ]
  },
  {
   "cell_type": "code",
   "execution_count": null,
   "id": "19d2f514",
   "metadata": {},
   "outputs": [],
   "source": [
    "def convert_pdf(infilename, outfileName=None):\n",
    "    if outfileName == None:\n",
    "        outfileName = infilename[0:-4] + \"-book.pdf\"\n",
    "    reader = pypdf.PdfReader(infilename)\n",
    "    writer = pypdf.PdfWriter()\n",
    "    plan = signature_plan(len(reader.pages), binder_folio)\n",
    "    signatures = plan['signatures']\n",
    "    page_list = plan['page_list']\n",
    "    for signature in signatures:\n",
    "        for sheet in signature:            \n",
    "            page_nums = [\n",
    "                page_list[sheet[0]],\n",
    "                page_list[sheet[1]],\n",
    "                page_list[sheet[2]],\n",
    "                page_list[sheet[3]]\n",
    "            ]\n",
    "            make_sheet(\n",
    "                writer, \n",
    "                get_page(reader, page_nums[0], True),\n",
    "                get_page(reader, page_nums[1], True),\n",
    "                get_page(reader, page_nums[2], True),\n",
    "                get_page(reader, page_nums[3], True),\n",
    "                page_nums\n",
    "            )\n",
    "    writer.write(outfileName)"
   ]
  },
  {
   "cell_type": "code",
   "execution_count": null,
   "id": "af094235",
   "metadata": {},
   "outputs": [],
   "source": [
    "convert_pdf(infilename)"
   ]
  },
  {
   "cell_type": "code",
   "execution_count": null,
   "id": "c369d96d",
   "metadata": {},
   "outputs": [],
   "source": []
  }
 ],
 "metadata": {
  "kernelspec": {
   "display_name": "Python 3 (ipykernel)",
   "language": "python",
   "name": "python3"
  },
  "language_info": {
   "codemirror_mode": {
    "name": "ipython",
    "version": 3
   },
   "file_extension": ".py",
   "mimetype": "text/x-python",
   "name": "python",
   "nbconvert_exporter": "python",
   "pygments_lexer": "ipython3",
   "version": "3.10.12"
  }
 },
 "nbformat": 4,
 "nbformat_minor": 5
}
